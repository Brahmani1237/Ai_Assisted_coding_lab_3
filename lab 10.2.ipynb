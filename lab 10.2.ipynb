{
  "nbformat": 4,
  "nbformat_minor": 0,
  "metadata": {
    "colab": {
      "provenance": [],
      "authorship_tag": "ABX9TyPnx1/EbT5UCXTsUb2DKYI1",
      "include_colab_link": true
    },
    "kernelspec": {
      "name": "python3",
      "display_name": "Python 3"
    },
    "language_info": {
      "name": "python"
    }
  },
  "cells": [
    {
      "cell_type": "markdown",
      "metadata": {
        "id": "view-in-github",
        "colab_type": "text"
      },
      "source": [
        "<a href=\"https://colab.research.google.com/github/Brahmani1237/Ai_Assisted_coding_lab_3/blob/main/lab%2010.2.ipynb\" target=\"_parent\"><img src=\"https://colab.research.google.com/assets/colab-badge.svg\" alt=\"Open In Colab\"/></a>"
      ]
    },
    {
      "cell_type": "markdown",
      "source": [
        "TASK 1: Write python program as shown below.\n",
        "• Use an AI assistant to review and suggest corrections."
      ],
      "metadata": {
        "id": "TPcuknuQpUu7"
      }
    },
    {
      "cell_type": "markdown",
      "source": [
        "PROMPT:Generate the correct code for above python program and give comments."
      ],
      "metadata": {
        "id": "jkJZSwj3pJvK"
      }
    },
    {
      "cell_type": "code",
      "metadata": {
        "colab": {
          "base_uri": "https://localhost:8080/"
        },
        "id": "81e9b583",
        "outputId": "24819fa9-787a-42ee-c6de-6ca5fd54e917"
      },
      "source": [
        "# Function to calculate the factorial of a number\n",
        "def calcFact(n):\n",
        "    result = 1\n",
        "    # x = 6 # This line seems unnecessary and can be removed\n",
        "    # The loop should go up to n (inclusive)\n",
        "    for i in range(1, n + 1):\n",
        "        result = result * i\n",
        "    return result\n",
        "\n",
        "# Main function to get user input, calculate factorial, and print results\n",
        "def main():\n",
        "    # Get input from the user and convert it to an integer\n",
        "    num = int(input(\"Enter a non-negative integer: \")) # Added input and type conversion\n",
        "    # Calculate the factorial\n",
        "    FACT = calcFact(num)\n",
        "    # Print the factorial\n",
        "    print(\"The factorial of\", num, \"is\", FACT)\n",
        "\n",
        "    # Check if the factorial is a big or small number\n",
        "    # seven = 10 # This variable name seems unusual and can be removed or renamed\n",
        "    if FACT > 10:\n",
        "        print(\"BIG Number\")\n",
        "    else:\n",
        "        print(\"small number\")\n",
        "\n",
        "# Call the main function to run the program\n",
        "main()"
      ],
      "execution_count": 1,
      "outputs": [
        {
          "output_type": "stream",
          "name": "stdout",
          "text": [
            "Enter a non-negative integer: 8\n",
            "The factorial of 8 is 40320\n",
            "BIG Number\n"
          ]
        }
      ]
    },
    {
      "cell_type": "markdown",
      "source": [
        "EXPLANATION:   Certainly! This Python program calculates the factorial of a non-negative integer entered by the user and then determines if the resulting factorial is a \"BIG Number\" or a \"small number\".\n",
        "\n",
        "Here's a breakdown of the code:\n",
        "\n",
        "calcFact(n) function:\n",
        "Takes an integer n as input.\n",
        "Initializes a variable result to 1. This is important because the factorial of 0 is 1, and it serves as the starting point for the multiplication in the loop.\n",
        "It iterates through a for loop from 1 up to and including n.\n",
        "In each iteration, it multiplies the current result by the loop counter i.\n",
        "Finally, it returns the calculated factorial result.\n",
        "main() function:\n",
        "This function orchestrates the main logic of the program.\n",
        "It prompts the user to \"Enter a non-negative integer:\" using the input() function.\n",
        "The input is converted to an integer using int() and stored in the num variable.\n",
        "It calls the calcFact() function with num as the argument to calculate the factorial and stores the result in the FACT variable.\n",
        "It prints the calculated factorial using an f-string for clear output.\n",
        "It then checks if the FACT is greater than 10.\n",
        "If FACT is greater than 10, it prints \"BIG Number\".\n",
        "Otherwise (if FACT is 10 or less), it prints \"small number\".\n",
        "main() call:\n",
        "The line main() at the end of the script calls the main function, starting the execution of the program.\n",
        "In essence, the program gets a number from the user, computes its factorial, and then classifies the factorial based on whether it's larger than 10."
      ],
      "metadata": {
        "id": "13l-nCz6qO--"
      }
    },
    {
      "cell_type": "markdown",
      "source": [
        "TASK 2:Automatic Inline Comments\n",
        "• Write the Python code for Fibonacci as shown below and execute.\n",
        "• Ask AI to improve variable names, add comments, and apply PEP8 formatting\n",
        "(cleaned up).\n",
        "• Students evaluate which suggestions improve readability most. one.\n",
        "Expected Output#2: Clean format python code with much readability.\n"
      ],
      "metadata": {
        "id": "k9vh6b0uqoRe"
      }
    },
    {
      "cell_type": "markdown",
      "source": [
        "PROMPT: write a python program for fibonnaci series and improve variable names,add comments, and apply PEP8 formatting."
      ],
      "metadata": {
        "id": "2honTRD1rCVh"
      }
    },
    {
      "cell_type": "code",
      "metadata": {
        "colab": {
          "base_uri": "https://localhost:8080/"
        },
        "id": "26f783be",
        "outputId": "1db8abc7-d44d-4478-8ce3-2ad945871c2d"
      },
      "source": [
        "# Function to generate the Fibonacci series up to a given number of terms\n",
        "def generate_fibonacci_series(num_terms):\n",
        "    \"\"\"Generates the Fibonacci series up to the specified number of terms.\"\"\"\n",
        "    fibonacci_series = []\n",
        "    a, b = 0, 1  # Initialize the first two Fibonacci numbers\n",
        "\n",
        "    # Handle the case of non-positive input\n",
        "    if num_terms <= 0:\n",
        "        return fibonacci_series\n",
        "    elif num_terms == 1:\n",
        "        fibonacci_series.append(a)\n",
        "        return fibonacci_series\n",
        "    else:\n",
        "        fibonacci_series.extend([a, b]) # Add the first two numbers\n",
        "\n",
        "        # Generate subsequent terms\n",
        "        for _ in range(2, num_terms):\n",
        "            next_fibonacci_number = a + b\n",
        "            fibonacci_series.append(next_fibonacci_number)\n",
        "            a = b\n",
        "            b = next_fibonacci_number\n",
        "\n",
        "        return fibonacci_series\n",
        "\n",
        "# Main function to get user input and print the Fibonacci series\n",
        "def main():\n",
        "    \"\"\"Gets user input for the number of terms and prints the Fibonacci series.\"\"\"\n",
        "    try:\n",
        "        num_terms_input = int(input(\"Enter the number of terms for the Fibonacci series: \"))\n",
        "        fibonacci_result = generate_fibonacci_series(num_terms_input)\n",
        "\n",
        "        if fibonacci_result:\n",
        "            print(f\"The Fibonacci series up to {num_terms_input} terms is:\")\n",
        "            print(fibonacci_result)\n",
        "        else:\n",
        "            print(\"Please enter a positive integer for the number of terms.\")\n",
        "    except ValueError:\n",
        "        print(\"Invalid input. Please enter an integer.\")\n",
        "\n",
        "# Call the main function to run the program\n",
        "if __name__ == \"__main__\":\n",
        "    main()"
      ],
      "execution_count": 3,
      "outputs": [
        {
          "output_type": "stream",
          "name": "stdout",
          "text": [
            "Enter the number of terms for the Fibonacci series: 8\n",
            "The Fibonacci series up to 8 terms is:\n",
            "[0, 1, 1, 2, 3, 5, 8, 13]\n"
          ]
        }
      ]
    },
    {
      "cell_type": "markdown",
      "source": [
        "EXPLANATION: Certainly! This Python program generates the Fibonacci series up to a specified number of terms provided by the user.\n",
        "\n",
        "Here's a breakdown of the code:\n",
        "\n",
        "generate_fibonacci_series(num_terms) function:\n",
        "This function takes an integer num_terms as input, which represents the desired number of terms in the Fibonacci series.\n",
        "It initializes an empty list called fibonacci_series to store the generated series.\n",
        "It initializes two variables, a and b, to 0 and 1 respectively. These are the first two numbers in the standard Fibonacci sequence.\n",
        "It includes error handling for non-positive input:\n",
        "If num_terms is less than or equal to 0, it returns an empty list.\n",
        "If num_terms is 1, it appends only the first term (0) to the list and returns it.\n",
        "For num_terms greater than 1, it extends the fibonacci_series list with the initial two terms (0 and 1).\n",
        "It then uses a for loop to generate the subsequent terms:\n",
        "The loop iterates from 2 up to (but not including) num_terms.\n",
        "In each iteration, it calculates the next_fibonacci_number by adding the previous two terms (a and b).\n",
        "The next_fibonacci_number is appended to the fibonacci_series list.\n",
        "The values of a and b are updated to prepare for the next iteration: a becomes the old b, and b becomes the next_fibonacci_number.\n",
        "Finally, it returns the fibonacci_series list containing the generated terms.\n",
        "main() function:\n",
        "This function handles user interaction and program execution.\n",
        "It uses a try-except block to handle potential ValueError if the user enters non-integer input.\n",
        "Inside the try block:\n",
        "It prompts the user to \"Enter the number of terms for the Fibonacci series:\" using input().\n",
        "The input is converted to an integer using int() and stored in num_terms_input.\n",
        "It calls the generate_fibonacci_series() function with num_terms_input to get the Fibonacci series.\n",
        "It checks if fibonacci_result is not empty. If it's not empty, it prints the generated series.\n",
        "If fibonacci_result is empty (meaning the user entered a non-positive number), it prints a message asking for a positive integer.\n",
        "Inside the except ValueError block, if the input is not an integer, it prints an \"Invalid input\" message.\n",
        "if __name__ == \"__main__\": block:\n",
        "This is a standard Python construct that ensures the main() function is called only when the script is executed directly (not when it's imported as a module into another script).\n",
        "In summary, the program takes a positive integer from the user, calculates and displays the Fibonacci sequence up to that many terms, and includes basic error handling for invalid input.\n",
        "\n"
      ],
      "metadata": {
        "id": "85TF-5GXsqCW"
      }
    },
    {
      "cell_type": "markdown",
      "source": [
        "TASK 3: Write a Python script with 3–4 functions (e.g., calculator: add, subtract, multiply,\n",
        "divide).\n",
        "• Incorporate manual docstring in code with NumPy Style\n",
        "• Use AI assistance to generate a module-level docstring + individual function\n",
        "docstrings.\n",
        "• Compare the AI-generated docstring with your manually written one"
      ],
      "metadata": {
        "id": "sEovVys6sv2t"
      }
    },
    {
      "cell_type": "code",
      "source": [
        "# This is a simple calculator module that includes functions\n",
        "# to add, subtract, multiply, and divide two numbers.\n",
        "\n",
        "# Function to add two numbers\n",
        "def add(a, b):\n",
        "    # Returns the sum of a and b\n",
        "    return a + b\n",
        "\n",
        "# Function to subtract the second number from the first\n",
        "def subtract(a, b):\n",
        "    # Returns the result of a minus b\n",
        "    return a - b\n",
        "\n",
        "# Function to multiply two numbers\n",
        "def multiply(a, b):\n",
        "    # Returns the product of a and b\n",
        "    return a * b\n",
        "\n",
        "# Function to divide the first number by the second\n",
        "def divide(a, b):\n",
        "    # If b is 0, raise an error to avoid dividing by zero\n",
        "    if b == 0:\n",
        "        raise ZeroDivisionError(\"Cannot divide by zero.\")\n",
        "    # Returns the result of a divided by b\n",
        "    return a / b"
      ],
      "metadata": {
        "id": "ChXeAagnzfy8"
      },
      "execution_count": null,
      "outputs": []
    },
    {
      "cell_type": "markdown",
      "source": [
        "PROMPT:generate a python code with 4 functions like add ,subtract,multiply and divide give it with module level docstring +individual function docstring."
      ],
      "metadata": {
        "id": "W6fOjcDPyGxL"
      }
    },
    {
      "cell_type": "code",
      "metadata": {
        "id": "d0739a43"
      },
      "source": [
        "\"\"\"\n",
        "This module provides basic arithmetic operations: addition, subtraction,\n",
        "multiplication, and division.\n",
        "\n",
        "Each function takes two numeric arguments and returns the result of the\n",
        "corresponding operation.\n",
        "\"\"\"\n",
        "\n",
        "def add(a, b):\n",
        "    \"\"\"\n",
        "    Adds two numbers.\n",
        "\n",
        "    Parameters\n",
        "    ----------\n",
        "    a : int or float\n",
        "        The first number.\n",
        "    b : int or float\n",
        "        The second number.\n",
        "\n",
        "    Returns\n",
        "    -------\n",
        "    int or float\n",
        "        The sum of a and b.\n",
        "    \"\"\"\n",
        "    return a + b\n",
        "\n",
        "def subtract(a, b):\n",
        "    \"\"\"\n",
        "    Subtracts the second number from the first.\n",
        "\n",
        "    Parameters\n",
        "    ----------\n",
        "    a : int or float\n",
        "        The number to subtract from.\n",
        "    b : int or float\n",
        "        The number to subtract.\n",
        "\n",
        "    Returns\n",
        "    -------\n",
        "    int or float\n",
        "        The difference between a and b.\n",
        "    \"\"\"\n",
        "    return a - b\n",
        "\n",
        "def multiply(a, b):\n",
        "    \"\"\"\n",
        "    Multiplies two numbers.\n",
        "\n",
        "    Parameters\n",
        "    ----------\n",
        "    a : int or float\n",
        "        The first number.\n",
        "    b : int or float\n",
        "        The second number.\n",
        "\n",
        "    Returns\n",
        "    -------\n",
        "    int or float\n",
        "        The product of a and b.\n",
        "    \"\"\"\n",
        "    return a * b\n",
        "\n",
        "def divide(a, b):\n",
        "    \"\"\"\n",
        "    Divides the first number by the second.\n",
        "\n",
        "    Parameters\n",
        "    ----------\n",
        "    a : int or float\n",
        "        The numerator.\n",
        "    b : int or float\n",
        "        The denominator.\n",
        "\n",
        "    Returns\n",
        "    -------\n",
        "    float\n",
        "        The result of the division.\n",
        "\n",
        "    Raises\n",
        "    ------\n",
        "    ZeroDivisionError\n",
        "        If the denominator (b) is zero.\n",
        "    \"\"\"\n",
        "    if b == 0:\n",
        "        raise ZeroDivisionError(\"division by zero\")\n",
        "    return a / b"
      ],
      "execution_count": 5,
      "outputs": []
    },
    {
      "cell_type": "markdown",
      "source": [
        "COMPARISION :The manually written docstrings are simple and easy to understand, making them suitable for beginners or small projects. In contrast, the AI-generated NumPy-style docstrings are more structured, detailed, and professional, including parameter types, return types, and exception handling. Overall, the AI version is better suited for large or collaborative projects where clear and standardized documentation is important."
      ],
      "metadata": {
        "id": "I8XiZpSGydrK"
      }
    }
  ]
}