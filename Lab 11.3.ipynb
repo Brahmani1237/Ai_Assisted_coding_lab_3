{
  "nbformat": 4,
  "nbformat_minor": 0,
  "metadata": {
    "colab": {
      "provenance": [],
      "authorship_tag": "ABX9TyPAouhoj86I7DnT15N/ZPLL",
      "include_colab_link": true
    },
    "kernelspec": {
      "name": "python3",
      "display_name": "Python 3"
    },
    "language_info": {
      "name": "python"
    }
  },
  "cells": [
    {
      "cell_type": "markdown",
      "metadata": {
        "id": "view-in-github",
        "colab_type": "text"
      },
      "source": [
        "<a href=\"https://colab.research.google.com/github/Brahmani1237/Ai_Assisted_coding_lab_3/blob/main/Lab%2011.3.ipynb\" target=\"_parent\"><img src=\"https://colab.research.google.com/assets/colab-badge.svg\" alt=\"Open In Colab\"/></a>"
      ]
    },
    {
      "cell_type": "markdown",
      "source": [
        "TASK 1:Ask AI to implement a stack class with push(), pop(), peek() and\n",
        "is_empty() methods"
      ],
      "metadata": {
        "id": "uSTRWnebx_rp"
      }
    },
    {
      "cell_type": "markdown",
      "source": [
        "PROMPT: generate a python program by implementing a stack class with push(),pop(),peek(),and is_empty() methods"
      ],
      "metadata": {
        "id": "N2wQ5ueC5Pl3"
      }
    },
    {
      "cell_type": "code",
      "metadata": {
        "colab": {
          "base_uri": "https://localhost:8080/"
        },
        "id": "2b1e6c77",
        "outputId": "2e86b8c3-2756-45b2-912f-ec450c43585f"
      },
      "source": [
        "class Stack:\n",
        "    def __init__(self):\n",
        "        self.items = []\n",
        "\n",
        "    def is_empty(self):\n",
        "        return not self.items\n",
        "\n",
        "    def push(self, item):\n",
        "        self.items.append(item)\n",
        "\n",
        "    def pop(self):\n",
        "        if not self.is_empty():\n",
        "            return self.items.pop()\n",
        "        else:\n",
        "            return \"Stack is empty\"\n",
        "\n",
        "    def peek(self):\n",
        "        if not self.is_empty():\n",
        "            return self.items[-1]\n",
        "        else:\n",
        "            return \"Stack is empty\"\n",
        "\n",
        "# Example usage:\n",
        "stack = Stack()\n",
        "\n",
        "print(\"Is the stack empty?\", stack.is_empty())\n",
        "\n",
        "stack.push(10)\n",
        "stack.push(20)\n",
        "stack.push(30)\n",
        "\n",
        "print(\"Is the stack empty?\", stack.is_empty())\n",
        "print(\"Top element:\", stack.peek())\n",
        "print(\"Popped element:\", stack.pop())\n",
        "print(\"Top element after pop:\", stack.peek())\n",
        "print(\"Popped element:\", stack.pop())\n",
        "print(\"Popped element:\", stack.pop())\n",
        "print(\"Popped element:\", stack.pop()) # Trying to pop from an empty stack"
      ],
      "execution_count": 1,
      "outputs": [
        {
          "output_type": "stream",
          "name": "stdout",
          "text": [
            "Is the stack empty? True\n",
            "Is the stack empty? False\n",
            "Top element: 30\n",
            "Popped element: 30\n",
            "Top element after pop: 20\n",
            "Popped element: 20\n",
            "Popped element: 10\n",
            "Popped element: Stack is empty\n"
          ]
        }
      ]
    },
    {
      "cell_type": "markdown",
      "source": [
        "EXPLANATION:certainly! This code defines a simple Stack data structure in Python. Here's a breakdown of each part:\n",
        "\n",
        "class Stack:: This line defines a new class named Stack. In object-oriented programming, a class is a blueprint for creating objects (instances).\n",
        "def __init__(self):: This is the constructor method of the class. It's called when you create a new Stack object. self.items = [] initializes an empty Python list called items. This list will be used to store the elements of the stack.\n",
        "def is_empty(self):: This method checks if the stack is empty. return not self.items returns True if the items list is empty (because not [] is True) and False otherwise.\n",
        "def push(self, item):: This method adds an item to the top of the stack. self.items.append(item) uses the append() method of the list to add the item to the end of the items list. Since we're using a list to represent the stack, the end of the list is considered the top of the stack.\n",
        "def pop(self):: This method removes and returns the item from the top of the stack.\n",
        "if not self.is_empty(): checks if the stack is not empty before attempting to pop.\n",
        "return self.items.pop() uses the pop() method of the list to remove and return the last element (the top of the stack).\n",
        "else: return \"Stack is empty\" is executed if the stack is empty, returning a message indicating that.\n",
        "def peek(self):: This method returns the item at the top of the stack without removing it.\n",
        "if not self.is_empty(): checks if the stack is not empty before attempting to peek.\n",
        "return self.items[-1] uses negative indexing to access the last element of the list, which is the top of the stack.\n",
        "else: return \"Stack is empty\" is executed if the stack is empty, returning a message.\n",
        "The code then demonstrates how to use the Stack class by creating a stack object and calling its methods.\n",
        "\n",
        ""
      ],
      "metadata": {
        "id": "7YtebxF95_ix"
      }
    },
    {
      "cell_type": "markdown",
      "source": [
        "TASK 2:Use AI to generate a Queue class with enqueue(), dequeue(), and\n",
        "is_empty()."
      ],
      "metadata": {
        "id": "fSTFWCtg6FuB"
      }
    },
    {
      "cell_type": "markdown",
      "source": [
        "PROMPT:Generate a python program for Queue class with enqueue(),dequeue(),and is_empty()."
      ],
      "metadata": {
        "id": "zGfKvRtA6KKt"
      }
    },
    {
      "cell_type": "code",
      "metadata": {
        "colab": {
          "base_uri": "https://localhost:8080/"
        },
        "id": "01f387e2",
        "outputId": "99a12e48-9dbe-4600-8463-bef035b78826"
      },
      "source": [
        "class Queue:\n",
        "    def __init__(self):\n",
        "        self.items = []\n",
        "\n",
        "    def is_empty(self):\n",
        "        return not self.items\n",
        "\n",
        "    def enqueue(self, item):\n",
        "        self.items.insert(0, item)  # Add to the front\n",
        "\n",
        "    def dequeue(self):\n",
        "        if not self.is_empty():\n",
        "            return self.items.pop()  # Remove from the back\n",
        "        else:\n",
        "            return \"Queue is empty\"\n",
        "\n",
        "# Example usage with dynamic input:\n",
        "queue = Queue()\n",
        "\n",
        "while True:\n",
        "    print(\"\\nQueue Operations:\")\n",
        "    print(\"1. Enqueue\")\n",
        "    print(\"2. Dequeue\")\n",
        "    print(\"3. Check if Empty\")\n",
        "    print(\"4. Display Queue\")\n",
        "    print(\"5. Exit\")\n",
        "\n",
        "    choice = input(\"Enter your choice: \")\n",
        "\n",
        "    if choice == '1':\n",
        "        item = input(\"Enter item to enqueue: \")\n",
        "        queue.enqueue(item)\n",
        "        print(f\"{item} enqueued.\")\n",
        "    elif choice == '2':\n",
        "        dequeued_item = queue.dequeue()\n",
        "        print(f\"Dequeued item: {dequeued_item}\")\n",
        "    elif choice == '3':\n",
        "        if queue.is_empty():\n",
        "            print(\"Queue is empty.\")\n",
        "        else:\n",
        "            print(\"Queue is not empty.\")\n",
        "    elif choice == '4':\n",
        "        print(\"Queue:\", queue.items)\n",
        "    elif choice == '5':\n",
        "        print(\"Exiting.\")\n",
        "        break\n",
        "    else:\n",
        "        print(\"Invalid choice. Please try again.\")"
      ],
      "execution_count": null,
      "outputs": [
        {
          "output_type": "stream",
          "name": "stdout",
          "text": [
            "\n",
            "Queue Operations:\n",
            "1. Enqueue\n",
            "2. Dequeue\n",
            "3. Check if Empty\n",
            "4. Display Queue\n",
            "5. Exit\n"
          ]
        }
      ]
    },
    {
      "cell_type": "markdown",
      "source": [
        "EXPLANATION:Certainly! This code defines a simple Queue data structure in Python using a list. Here's a breakdown of each part:\n",
        "\n",
        "class Queue:: This line defines a new class named Queue.\n",
        "def __init__(self):: This is the constructor method. self.items = [] initializes an empty Python list called items to store the elements of the queue.\n",
        "def is_empty(self):: This method checks if the queue is empty by returning True if the items list is empty and False otherwise.\n",
        "def enqueue(self, item):: This method adds an item to the queue. self.items.insert(0, item) adds the new item to the beginning (index 0) of the items list. This is one way to implement a queue where the front is at index 0.\n",
        "def dequeue(self):: This method removes and returns the item from the front of the queue.\n",
        "if not self.is_empty(): checks if the queue is not empty.\n",
        "return self.items.pop() removes and returns the last element of the list. Since elements are added to the front with insert(0, item), the last element is the oldest element, simulating the front of the queue.\n",
        "else: return \"Queue is empty\" is executed if the queue is empty.\n",
        "Example usage with dynamic input: The code then provides a loop to interact with the user, allowing them to perform queue operations (enqueue, dequeue, check empty, display) by entering choices.\n",
        "This implementation uses a Python list where enqueue adds to the front (index 0) and dequeue removes from the back (pop()). While this works, adding to the front of a list with insert(0, item) can be less efficient for large queues compared to other implementations like using collections.deque.\n",
        "\n"
      ],
      "metadata": {
        "id": "vt550VER7VRw"
      }
    },
    {
      "cell_type": "markdown",
      "source": [
        "TASK 3:Ask AI to create a singly linked list with insert_at_end(),\n",
        "insert_at_beginning(), and display()."
      ],
      "metadata": {
        "id": "-UDDxFPJ7k90"
      }
    },
    {
      "cell_type": "markdown",
      "source": [
        "PROMPT:Generate a python program to create a singly linked list with insert_at_end(), insert_at_beginning(), and display()."
      ],
      "metadata": {
        "id": "DlsqEH_C77TD"
      }
    },
    {
      "cell_type": "code",
      "source": [
        "class Node:\n",
        "    def _init_(self, data):\n",
        "        self.data = data\n",
        "        self.next = None\n",
        "\n",
        "class LinkedList:\n",
        "    def _init_(self):\n",
        "        self.head = None\n",
        "\n",
        "    def insert_at_beginning(self, data):\n",
        "        new_node = Node(data)\n",
        "        new_node.next = self.head\n",
        "        self.head = new_node\n",
        "\n",
        "    def display(self):\n",
        "        current = self.head\n",
        "        while current:\n",
        "            print(current.data, end=\" -> \")\n",
        "            current = current.next\n",
        "        print(\"None\")\n",
        "\n",
        "# Example Usage:\n",
        "llist = LinkedList()\n",
        "llist.insert_at_beginning(30)\n",
        "llist.insert_at_beginning(20)\n",
        "llist.insert_at_beginning(10)\n",
        "llist.display()"
      ],
      "metadata": {
        "id": "gElK7g1n80hp"
      },
      "execution_count": null,
      "outputs": []
    },
    {
      "cell_type": "markdown",
      "source": [
        "EXPLANATION:\n",
        "class Node:: This class represents a single node in the linked list.\n",
        "def __init__(self, data=None): is the constructor. It initializes a node with data and a next attribute, which initially points to None.\n",
        "class SinglyLinkedList:: This class represents the linked list itself.\n",
        "def __init__(self): is the constructor. It initializes an empty linked list by setting the head to None.\n",
        "def insert_at_beginning(self, data):: This method inserts a new node with the given data at the beginning of the list.\n",
        "It creates a new_node.\n",
        "It sets the next of the new_node to the current head.\n",
        "It updates the head of the list to point to the new_node.\n",
        "def insert_at_end(self, data):: This method inserts a new node with the given data at the end of the list.\n",
        "It creates a new_node.\n",
        "If the list is empty (not self.head), the new_node becomes the head.\n",
        "Otherwise, it traverses the list to find the last node (while last_node.next:).\n",
        "It sets the next of the last node to the new_node.\n",
        "def display(self):: This method traverses the linked list and prints the data of each node.\n",
        "It initializes an empty list elements to store the data.\n",
        "It starts from the head and iterates through the list as long as the current node is not None.\n",
        "In each iteration, it appends the current.data to the elements list and moves to the next node (current = current.next).\n",
        "Finally, it prints the elements list.\n",
        "Example usage with dynamic input: This part of the code provides a simple interactive loop that allows the user to perform insert and display operations on the linked list by entering their choices.\n",
        "This implementation demonstrates the fundamental operations of a singly linked list.\n",
        "\n"
      ],
      "metadata": {
        "id": "N0Bo8qB-85kD"
      }
    },
    {
      "cell_type": "markdown",
      "source": [
        "TASK 4:Ask AI to generate a simple BST with insert() and\n",
        "inorder_traversal().\n"
      ],
      "metadata": {
        "id": "5ekGVEuP9Kfg"
      }
    },
    {
      "cell_type": "markdown",
      "source": [
        "PROMPT:Generate a python program for a simple BST with insert() and inorder_traversal()."
      ],
      "metadata": {
        "id": "N2ZIx2w19PuP"
      }
    },
    {
      "cell_type": "code",
      "metadata": {
        "id": "1e958358"
      },
      "source": [
        "class Node:\n",
        "    def __init__(self, key):\n",
        "        self.left = None\n",
        "        self.right = None\n",
        "        self.val = key\n",
        "\n",
        "class BST:\n",
        "    def __init__(self):\n",
        "        self.root = None\n",
        "\n",
        "    def insert(self, key):\n",
        "        if self.root is None:\n",
        "            self.root = Node(key)\n",
        "        else:\n",
        "            self._insert(self.root, key)\n",
        "\n",
        "    def _insert(self, root, key):\n",
        "        if key < root.val:\n",
        "            if root.left is None:\n",
        "                root.left = Node(key)\n",
        "            else:\n",
        "                self._insert(root.left, key)\n",
        "        else:\n",
        "            if root.right is None:\n",
        "                root.right = Node(key)\n",
        "            else:\n",
        "                self._insert(root.right, key)\n",
        "\n",
        "    def inorder_traversal(self):\n",
        "        elements = []\n",
        "        self._inorder_traversal(self.root, elements)\n",
        "        print(\"Inorder Traversal:\", elements)\n",
        "\n",
        "    def _inorder_traversal(self, root, elements):\n",
        "        if root:\n",
        "            self._inorder_traversal(root.left, elements)\n",
        "            elements.append(root.val)\n",
        "            self._inorder_traversal(root.right, elements)\n",
        "\n",
        "# Example Usage:\n",
        "bst = BST()\n",
        "bst.insert(50)\n",
        "bst.insert(30)\n",
        "bst.insert(20)\n",
        "bst.insert(40)\n",
        "bst.insert(70)\n",
        "bst.insert(60)\n",
        "bst.insert(80)\n",
        "\n",
        "bst.inorder_traversal()"
      ],
      "execution_count": null,
      "outputs": []
    },
    {
      "cell_type": "markdown",
      "source": [
        "EXPLANATION: class Node:: This class represents a node in the BST. def init(self, key):: The constructor initializes a node with a key (the value stored in the node). It also initializes left and right attributes to None, which will point to the left and right children of the node, respectively. class BST:: This class represents the Binary Search Tree itself. def init(self):: The constructor initializes the BST with a root attribute set to None, indicating an empty tree initially. def insert(self, key):: This method is the public interface for inserting a new key into the BST. if self.root is None:: If the tree is empty, the new node becomes the root. else: self._insert_recursive(self.root, key): If the tree is not empty, it calls a private helper method _insert_recursive to find the correct position for the new key. def _insert_recursive(self, root, key):: This is a recursive helper method for inserting a key. if key < root.val:: If the key is less than the current node's value, it should be inserted in the left subtree. if root.left is None:: If the left child is None, the new node is placed here. else: self._insert_recursive(root.left, key): Otherwise, recursively call _insert_recursive on the left child. else:: If the key is greater than or equal to the current node's value, it should be inserted in the right subtree. if root.right is None:: If the right child is None, the new node is placed here. else: self._insert_recursive(root.right, key): Otherwise, recursively call _insert_recursive on the right child. def inorder_traversal(self):: This method initiates the in-order traversal of the BST. In-order traversal visits nodes in ascending order of their keys. result = []: Initializes an empty list to store the traversal result. self._inorder_recursive(self.root, result): Calls the private recursive helper method _inorder_recursive starting from the root. return result: Returns the list containing the in-order traversal of the tree. def _inorder_recursive(self, root, result):: This is a recursive helper method for performing in-order traversal. if root:: If the current node is not None: self._inorder_recursive(root.left, result): Recursively traverse the left subtree. result.append(root.val): Visit the current node (append its value to the result list). self._inorder_recursive(root.right, result"
      ],
      "metadata": {
        "id": "xKsUjSVm9hzA"
      }
    }
  ]
}