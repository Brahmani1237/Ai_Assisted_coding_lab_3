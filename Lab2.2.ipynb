{
  "nbformat": 4,
  "nbformat_minor": 0,
  "metadata": {
    "colab": {
      "provenance": [],
      "authorship_tag": "ABX9TyP7YwP2Lk/wZYsMdOms1g0+",
      "include_colab_link": true
    },
    "kernelspec": {
      "name": "python3",
      "display_name": "Python 3"
    },
    "language_info": {
      "name": "python"
    }
  },
  "cells": [
    {
      "cell_type": "markdown",
      "metadata": {
        "id": "view-in-github",
        "colab_type": "text"
      },
      "source": [
        "<a href=\"https://colab.research.google.com/github/Brahmani1237/Ai_Assisted_coding_lab_3/blob/main/Lab2.2.ipynb\" target=\"_parent\"><img src=\"https://colab.research.google.com/assets/colab-badge.svg\" alt=\"Open In Colab\"/></a>"
      ]
    },
    {
      "cell_type": "markdown",
      "source": [],
      "metadata": {
        "id": "YtSe1H565Tp8"
      }
    },
    {
      "cell_type": "markdown",
      "source": [
        "Task Description#1\n",
        "●\tUse Gemini in Colab to write a function that filters out all negative numbers from a given list.\n",
        "Expected Output#1\n",
        "●\tFunctional code with before/after input and output shown in Colab, plus a screenshot\n"
      ],
      "metadata": {
        "id": "UDy_OdL95Wv0"
      }
    },
    {
      "cell_type": "code",
      "source": [
        "def filter_negative_numbers(numbers):\n",
        "  \"\"\"Filters out negative numbers from a list.\"\"\"\n",
        "  return [number for number in numbers if number >= 0]\n",
        "\n",
        "# Get input from the user\n",
        "input_list_str = input(\"Enter a list of numbers separated by spaces (e.g., 1 -2 3 0 -5): \")\n",
        "\n",
        "# Convert the input string to a list of numbers\n",
        "try:\n",
        "  input_list = [int(x) for x in input_list_str.split()]\n",
        "except ValueError:\n",
        "  print(\"Invalid input. Please enter numbers separated by spaces.\")\n",
        "  input_list = []\n",
        "\n",
        "# Filter the list and print the output\n",
        "filtered_list = filter_negative_numbers(input_list)\n",
        "print(\"Original list:\", input_list)\n",
        "print(\"Filtered list (without negative numbers):\", filtered_list)"
      ],
      "metadata": {
        "colab": {
          "base_uri": "https://localhost:8080/"
        },
        "id": "6KyWkE_w5YsB",
        "outputId": "a91b3477-dcf1-47c3-feef-cfe48037d5b3"
      },
      "execution_count": 1,
      "outputs": [
        {
          "output_type": "stream",
          "name": "stdout",
          "text": [
            "Enter a list of numbers separated by spaces (e.g., 1 -2 3 0 -5): -1 -2 9 7\n",
            "Original list: [-1, -2, 9, 7]\n",
            "Filtered list (without negative numbers): [9, 7]\n"
          ]
        }
      ]
    },
    {
      "cell_type": "markdown",
      "source": [
        "Task Description#2\n",
        "●\tAsk Gemini to generate code that reads a text file and counts the frequency of each word. Then ask it to explain the code.\n",
        "Expected Output#2\n",
        "●\tWorking code and Gemini’s explanation side-by-side.\n",
        "\n"
      ],
      "metadata": {
        "id": "n60CXBeu6aYP"
      }
    },
    {
      "cell_type": "code",
      "source": [
        "import re\n",
        "from collections import Counter\n",
        "\n",
        "def count_word_frequency(filepath):\n",
        "  \"\"\"Reads a text file and counts the frequency of each word.\"\"\"\n",
        "  try:\n",
        "    with open(filepath, 'r', encoding='utf-8') as file:\n",
        "      text = file.read().lower()  # Read and convert to lowercase\n",
        "      words = re.findall(r'\\b\\w+\\b', text)  # Find all words\n",
        "      word_counts = Counter(words)  # Count word frequencies\n",
        "      return word_counts\n",
        "  except FileNotFoundError:\n",
        "    print(f\"Error: File not found at {filepath}\")\n",
        "    return None\n",
        "\n",
        "# Create a dummy text file for demonstration\n",
        "dummy_file_content = \"\"\"\n",
        "This is a sample text file.\n",
        "This file is used to demonstrate word counting.\n",
        "Word counting is useful for text analysis.\n",
        "\"\"\"\n",
        "with open(\"sample.txt\", \"w\", encoding=\"utf-8\") as f:\n",
        "    f.write(dummy_file_content)\n",
        "\n",
        "# Example usage\n",
        "filepath = \"sample.txt\"\n",
        "word_frequencies = count_word_frequency(filepath)\n",
        "\n",
        "if word_frequencies:\n",
        "  print(f\"Word frequencies in '{filepath}':\")\n",
        "  for word, frequency in word_frequencies.items():\n",
        "    print(f\"'{word}': {frequency}\")"
      ],
      "metadata": {
        "colab": {
          "base_uri": "https://localhost:8080/"
        },
        "id": "cJFpkR0m6c0N",
        "outputId": "69c03d7f-a444-4f8e-c0b8-abe372e79ba9"
      },
      "execution_count": 2,
      "outputs": [
        {
          "output_type": "stream",
          "name": "stdout",
          "text": [
            "Word frequencies in 'sample.txt':\n",
            "'this': 2\n",
            "'is': 3\n",
            "'a': 1\n",
            "'sample': 1\n",
            "'text': 2\n",
            "'file': 2\n",
            "'used': 1\n",
            "'to': 1\n",
            "'demonstrate': 1\n",
            "'word': 2\n",
            "'counting': 2\n",
            "'useful': 1\n",
            "'for': 1\n",
            "'analysis': 1\n"
          ]
        }
      ]
    },
    {
      "cell_type": "markdown",
      "source": [
        "Task Description#3\n",
        "●\tUse Cursor AI to generate a Python class called Book with attributes title, author, and a method summary() that prints the details.\n",
        "Expected Output#3\n",
        "●\tScreenshot comparisons and student commentary on code clarity and performance.\n",
        "\n"
      ],
      "metadata": {
        "id": "G9Qzsg5866QX"
      }
    },
    {
      "cell_type": "code",
      "source": [
        "class Book:\n",
        "  \"\"\"Represents a book with a title and author.\"\"\"\n",
        "\n",
        "  def __init__(self, title, author):\n",
        "    \"\"\"Initializes a new Book instance.\n",
        "\n",
        "    Args:\n",
        "      title: The title of the book.\n",
        "      author: The author of the book.\n",
        "    \"\"\"\n",
        "    self.title = title\n",
        "    self.author = author\n",
        "\n",
        "  def summary(self):\n",
        "    \"\"\"Prints the details of the book.\"\"\"\n",
        "    print(f\"Title: {self.title}\")\n",
        "    print(f\"Author: {self.author}\")\n",
        "\n",
        "# Example usage\n",
        "my_book = Book(\"The Hitchhiker's Guide to the Galaxy\", \"Douglas Adams\")\n",
        "my_book.summary()"
      ],
      "metadata": {
        "colab": {
          "base_uri": "https://localhost:8080/"
        },
        "id": "l98Ro5QJ67nG",
        "outputId": "640db2e0-0412-4551-85c7-660a8d7e03ca"
      },
      "execution_count": 3,
      "outputs": [
        {
          "output_type": "stream",
          "name": "stdout",
          "text": [
            "Title: The Hitchhiker's Guide to the Galaxy\n",
            "Author: Douglas Adams\n"
          ]
        }
      ]
    },
    {
      "cell_type": "markdown",
      "source": [
        "Task Description#4\n",
        "●\tAsk Gemini to write a program that checks whether a number is an Armstrong number, and then modify it using Cursor AI to improve performance or structure.\n",
        "Expected Output#4\n",
        "●\tTwo versions of the code with screenshots, and a summary of what changes were made by Cursor\n"
      ],
      "metadata": {
        "id": "zHCPWNLi74TR"
      }
    },
    {
      "cell_type": "code",
      "source": [
        "def is_armstrong_number(number):\n",
        "  \"\"\"Checks if a number is an Armstrong number.\"\"\"\n",
        "  # Convert the number to a string to get the number of digits\n",
        "  num_str = str(number)\n",
        "  num_digits = len(num_str)\n",
        "  sum_of_powers = 0\n",
        "  # Calculate the sum of digits raised to the power of the number of digits\n",
        "  for digit in num_str:\n",
        "    sum_of_powers += int(digit) ** num_digits\n",
        "  # Check if the number is equal to the sum of powers\n",
        "  return number == sum_of_powers\n",
        "\n",
        "# Get input from the user\n",
        "try:\n",
        "  input_number = int(input(\"Enter a number to check if it's an Armstrong number: \"))\n",
        "  # Check and print the result\n",
        "  if is_armstrong_number(input_number):\n",
        "    print(f\"{input_number} is an Armstrong number.\")\n",
        "  else:\n",
        "    print(f\"{input_number} is not an Armstrong number.\")\n",
        "except ValueError:\n",
        "  print(\"Invalid input. Please enter an integer.\")"
      ],
      "metadata": {
        "colab": {
          "base_uri": "https://localhost:8080/"
        },
        "id": "DdWNxu0f77oR",
        "outputId": "7bdcf745-8df6-4754-b8b9-31b6dd933d41"
      },
      "execution_count": 4,
      "outputs": [
        {
          "output_type": "stream",
          "name": "stdout",
          "text": [
            "Enter a number to check if it's an Armstrong number: 153\n",
            "153 is an Armstrong number.\n"
          ]
        }
      ]
    },
    {
      "cell_type": "markdown",
      "source": [
        "Task Description#5\n",
        "●\tStudent need to write code to calculate sum of add number and even numbers in the list\n",
        "Expected Output#5\n",
        "●\tRefactored code written by student with improved logic\n",
        "\n"
      ],
      "metadata": {
        "id": "q165b-YE8m8F"
      }
    },
    {
      "cell_type": "code",
      "source": [
        "def sum_odd_even(numbers):\n",
        "  \"\"\"Calculates the sum of odd and even numbers in a list.\"\"\"\n",
        "  sum_odd = 0\n",
        "  sum_even = 0\n",
        "  for number in numbers:\n",
        "    if number % 2 == 0:\n",
        "      sum_even += number\n",
        "    else:\n",
        "      sum_odd += number\n",
        "  return sum_odd, sum_even\n",
        "\n",
        "# Get input from the user\n",
        "input_list_str = input(\"Enter a list of numbers separated by spaces (e.g., 1 2 3 4 5): \")\n",
        "\n",
        "# Convert the input string to a list of numbers\n",
        "try:\n",
        "  input_list = [int(x) for x in input_list_str.split()]\n",
        "except ValueError:\n",
        "  print(\"Invalid input. Please enter numbers separated by spaces.\")\n",
        "  input_list = []\n",
        "\n",
        "# Calculate and print the sums\n",
        "sum_odd, sum_even = sum_odd_even(input_list)\n",
        "print(\"Original list:\", input_list)\n",
        "print(\"Sum of odd numbers:\", sum_odd)\n",
        "print(\"Sum of even numbers:\", sum_even)"
      ],
      "metadata": {
        "colab": {
          "base_uri": "https://localhost:8080/"
        },
        "id": "9DAm3Pey8qK2",
        "outputId": "adbda3bd-a338-48a4-fc0d-6b47972670ef"
      },
      "execution_count": 5,
      "outputs": [
        {
          "output_type": "stream",
          "name": "stdout",
          "text": [
            "Enter a list of numbers separated by spaces (e.g., 1 2 3 4 5): 1 2 3 4 5\n",
            "Original list: [1, 2, 3, 4, 5]\n",
            "Sum of odd numbers: 9\n",
            "Sum of even numbers: 6\n"
          ]
        }
      ]
    }
  ]
}